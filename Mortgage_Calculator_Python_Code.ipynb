{
 "cells": [
  {
   "cell_type": "code",
   "execution_count": 8,
   "outputs": [],
   "source": [],
   "metadata": {
    "collapsed": false
   }
  },
  {
   "cell_type": "markdown",
   "metadata": {},
   "source": [
    "## Code to compute monthly P and I payments for a mortgage loan##\n",
    "\n",
    "The following user-defined input variables are required:\n",
    "\n",
    "1) Sales Price\n",
    "2) Down Payment \n",
    "3) Mortgage Type\n",
    "4) Interest Rate\n",
    "\n",
    "Code produces calculations consistent with results obtained using the Dave Ramsey Mortgage Calculator: https://www.daveramsey.com/mortgage-calculator.\n",
    "\n",
    "Author: Barb Gordon\n",
    "\n",
    "Date: 4/2023"
   ]
  },
  {
   "cell_type": "code",
   "execution_count": 9,
   "metadata": {},
   "outputs": [],
   "source": [
    "import numpy as np\n",
    "import matplotlib.pyplot as plt\n",
    "import pandas as pd"
   ]
  },
  {
   "cell_type": "code",
   "execution_count": 10,
   "metadata": {},
   "outputs": [],
   "source": [
    "Sales_Price = float(input('Enter sales price of house in US dollars: '))"
   ]
  },
  {
   "cell_type": "code",
   "execution_count": 11,
   "metadata": {},
   "outputs": [],
   "source": [
    "Down_Payment =  float(input('Enter down payment as a percentage of Sales Price, e.g. 5 for 5%: '))"
   ]
  },
  {
   "cell_type": "code",
   "execution_count": 12,
   "metadata": {},
   "outputs": [],
   "source": [
    "Loan_Amount = Sales_Price*(1-Down_Payment/100)"
   ]
  },
  {
   "cell_type": "code",
   "execution_count": 13,
   "metadata": {},
   "outputs": [],
   "source": [
    "Mortgage_Type =  float(input('Enter mortgage type in years, e.g 15 for 15 years: '))"
   ]
  },
  {
   "cell_type": "code",
   "execution_count": 14,
   "metadata": {},
   "outputs": [],
   "source": [
    "Loan_Term = int(12*Mortgage_Type)"
   ]
  },
  {
   "cell_type": "code",
   "execution_count": 15,
   "metadata": {},
   "outputs": [],
   "source": [
    "Interest_Rate =  float(input('Enter loan interest rate as a percentage, e.g 4 for 4%: '))"
   ]
  },
  {
   "cell_type": "code",
   "execution_count": 16,
   "metadata": {},
   "outputs": [],
   "source": [
    "Tax_Rate=float(input('Enter county tax rate: '))"
   ]
  },
  {
   "cell_type": "code",
   "execution_count": 17,
   "metadata": {},
   "outputs": [],
   "source": [
    "Home_Insurance=float(input('Enter your yearly Homeowners Insurance: '))"
   ]
  },
  {
   "cell_type": "code",
   "execution_count": 18,
   "metadata": {},
   "outputs": [],
   "source": [
    "Home_Ins=Home_Insurance/12"
   ]
  },
  {
   "cell_type": "code",
   "execution_count": 19,
   "metadata": {},
   "outputs": [],
   "source": [
    "Tax_Amount= (Sales_Price*Tax_Rate)/12"
   ]
  },
  {
   "cell_type": "code",
   "execution_count": 20,
   "metadata": {},
   "outputs": [],
   "source": [
    "R = 1 + Interest_Rate / (12 * 100)"
   ]
  },
  {
   "cell_type": "code",
   "execution_count": 21,
   "metadata": {},
   "outputs": [],
   "source": [
    "X = Loan_Amount*(R**Loan_Term)*(1-R)/(1-R**Loan_Term)"
   ]
  },
  {
   "cell_type": "code",
   "execution_count": 22,
   "metadata": {},
   "outputs": [],
   "source": [
    "Monthly_Interest = []\n",
    "Monthly_Balance = []"
   ]
  },
  {
   "cell_type": "code",
   "execution_count": 23,
   "metadata": {},
   "outputs": [],
   "source": [
    "for i in range(1,Loan_Term+1):\n",
    "    Interest = Loan_Amount*(R-1)\n",
    "    Loan_Amount = Loan_Amount - (X-Interest)\n",
    "    Monthly_Interest = np.append(Monthly_Interest,Interest)\n",
    "    Monthly_Balance = np.append(Monthly_Balance, Loan_Amount)"
   ]
  },
  {
   "cell_type": "code",
   "execution_count": 24,
   "metadata": {},
   "outputs": [
    {
     "name": "stdout",
     "output_type": "stream",
     "text": [
      "The Home Sales Price is: = $550000.0\n"
     ]
    }
   ],
   "source": [
    "print(\"The Home Sales Price is: = \" + str('$')+ str(Sales_Price))"
   ]
  },
  {
   "cell_type": "code",
   "execution_count": 25,
   "metadata": {},
   "outputs": [
    {
     "name": "stdout",
     "output_type": "stream",
     "text": [
      "The Down Payment as a Percentage of Sales Price is: = 15000.0 %\n"
     ]
    }
   ],
   "source": [
    "print(\"The Down Payment as a Percentage of Sales Price is: = \" + str(Down_Payment)+str(' %'))"
   ]
  },
  {
   "cell_type": "code",
   "execution_count": 26,
   "metadata": {},
   "outputs": [
    {
     "name": "stdout",
     "output_type": "stream",
     "text": [
      "The Loan Amount is: = $-81950000.0\n"
     ]
    }
   ],
   "source": [
    "print(\"The Loan Amount is: = \" +str('$')+ str(Sales_Price*(1-Down_Payment/100)))"
   ]
  },
  {
   "cell_type": "code",
   "execution_count": 27,
   "metadata": {},
   "outputs": [
    {
     "name": "stdout",
     "output_type": "stream",
     "text": [
      "The Interest Rate on Annual Percentage Basis is: = 3.0 %\n"
     ]
    }
   ],
   "source": [
    "print(\"The Interest Rate on Annual Percentage Basis is: = \" + str(Interest_Rate)+str(' %'))"
   ]
  },
  {
   "cell_type": "code",
   "execution_count": 28,
   "metadata": {},
   "outputs": [
    {
     "name": "stdout",
     "output_type": "stream",
     "text": [
      "The duration of this loan, that is the Loan Term (in months) is: = 180 months\n"
     ]
    }
   ],
   "source": [
    "print(\"The duration of this loan, that is the Loan Term (in months) is: = \" + str(Loan_Term)+str(' months'))"
   ]
  },
  {
   "cell_type": "code",
   "execution_count": 29,
   "metadata": {},
   "outputs": [
    {
     "name": "stdout",
     "output_type": "stream",
     "text": [
      "Monthly Payment for this Mortgage(P & I) is: = $-290431.65\n"
     ]
    }
   ],
   "source": [
    "print(\"Monthly Payment for this Mortgage(P & I) is: = \" + str('$')+str(np.round(X,2)+np.round(Tax_Amount,2)+np.round(Home_Ins,2)))"
   ]
  },
  {
   "cell_type": "code",
   "execution_count": 30,
   "metadata": {},
   "outputs": [
    {
     "name": "stdout",
     "output_type": "stream",
     "text": [
      "Total interest paid over life cycle of the loan is: = $-19917697.76\n"
     ]
    }
   ],
   "source": [
    "print(\"Total interest paid over life cycle of the loan is: = \" + str('$') + str(np.round(np.sum(Monthly_Interest),2)))"
   ]
  },
  {
   "cell_type": "code",
   "execution_count": 31,
   "metadata": {},
   "outputs": [
    {
     "data": {
      "text/plain": "<Figure size 640x480 with 1 Axes>",
      "image/png": "[encoded data removed]"
     },
     "metadata": {},
     "output_type": "display_data"
    }
   ],
   "source": [
    "plt.plot(range(1,Loan_Term+1),Monthly_Interest, 'r',lw=2)\n",
    "plt.xlabel('month')\n",
    "plt.ylabel('monthly interest ($)')\n",
    "plt.show()"
   ]
  },
  {
   "cell_type": "code",
   "execution_count": 32,
   "metadata": {},
   "outputs": [
    {
     "data": {
      "text/plain": "<Figure size 640x480 with 1 Axes>",
      "image/png": "[encoded data removed]"
     },
     "metadata": {},
     "output_type": "display_data"
    }
   ],
   "source": [
    "plt.plot(range(1,Loan_Term+1),Monthly_Balance,'b',lw=2)\n",
    "plt.xlabel('month')\n",
    "plt.ylabel('monthly loan balance ($)')\n",
    "plt.show()"
   ]
  }
 ],
 "metadata": {
  "kernelspec": {
   "display_name": "Python 3",
   "language": "python",
   "name": "python3"
  },
  "language_info": {
   "codemirror_mode": {
    "name": "ipython",
    "version": 3
   },
   "file_extension": ".py",
   "mimetype": "text/x-python",
   "name": "python",
   "nbconvert_exporter": "python",
   "pygments_lexer": "ipython3",
   "version": "3.7.4"
  }
 },
 "nbformat": 4,
 "nbformat_minor": 4
}
